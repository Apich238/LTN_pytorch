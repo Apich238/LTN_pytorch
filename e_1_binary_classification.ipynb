{
 "cells": [
  {
   "cell_type": "markdown",
   "metadata": {},
   "source": [
    "# Binary Classification\n",
    "\n",
    "This is a basic example in which we learn to ground unary predicate $A$ that is defined in the space of $[0,1]^2$.\n",
    "\n",
    "We define the predicate $A$ to apply to points that are close to the middle point $c=(.5,.5)$.In order to get training data, we randomly sample data from the domain. We split the sample data into two separate sets based on their euclidian distance to $c$. We then define two facts for the predicate $A$. For all points the predicate should apply to, we provide them as positive examples and vice versa for all points that the predicate does not apply to."
   ]
  },
  {
   "cell_type": "code",
   "execution_count": 1,
   "metadata": {},
   "outputs": [],
   "source": [
    "import logging; logging.basicConfig(level=logging.INFO)\n",
    "import torch\n",
    "import numpy as np\n",
    "import matplotlib.pyplot as plt\n",
    "import ltn_pytorch as ltn\n",
    "\n",
    "plt.rcParams['font.size'] = 12\n",
    "plt.rcParams['axes.linewidth'] = 1"
   ]
  },
  {
   "cell_type": "markdown",
   "metadata": {},
   "source": [
    "Sample random data from $[0,1]^2$. Our groundtruth positive training data for $A$ is close to the center (.5,.5). All other data is considered as negative examples."
   ]
  },
  {
   "cell_type": "code",
   "execution_count": 2,
   "metadata": {},
   "outputs": [
    {
     "data": {
      "image/png": "[encoded data removed]",
      "text/plain": [
       "<Figure size 288x288 with 1 Axes>"
      ]
     },
     "metadata": {
      "needs_background": "light"
     },
     "output_type": "display_data"
    }
   ],
   "source": [
    "batch_size=64\n",
    "nr_samples = 100\n",
    "nr_samples_train = 50\n",
    "data = np.random.uniform([0,0],[1,1],(nr_samples,2))\n",
    "labels = np.sum(np.square(data-[.5,.5]),axis=1)<.09\n",
    "\n",
    "from torch.utils.data import Dataset\n",
    "\n",
    "class PointsDataset(Dataset):\n",
    "    def __init__(self, data,labels):\n",
    "        self.data = data\n",
    "        self.labels=labels\n",
    "\n",
    "    def __getitem__(self, item):\n",
    "        return {'x': self.data[item], 'label': self.labels[item]}\n",
    "\n",
    "    def __len__(self):\n",
    "        return len(self.items)\n",
    "\n",
    "# 400 examples for training; 100 examples for training\n",
    "# ds_train = tf.data.Dataset\\\n",
    "#         .from_tensor_slices((data[:nr_samples_train],labels[:nr_samples_train]))\\\n",
    "#         .batch(batch_size)\n",
    "# ds_test = tf.data.Dataset\\\n",
    "#         .from_tensor_slices((data[nr_samples_train:],labels[nr_samples_train:]))\\\n",
    "#         .batch(batch_size)\n",
    "ds_train = PointsDataset(data[:nr_samples_train],labels[:nr_samples_train])\n",
    "ds_test = PointsDataset(data[nr_samples_train:],labels[nr_samples_train:])\n",
    "\n",
    "plt.figure(figsize=(4,4))\n",
    "plt.scatter(data[labels][:,0],data[labels][:,1],label='A')\n",
    "plt.scatter(data[np.logical_not(labels)][:,0],data[np.logical_not(labels)][:,1],label='~A')\n",
    "plt.title(\"Groundtruth\")\n",
    "plt.legend()\n",
    "plt.show()\n"
   ]
  },
  {
   "cell_type": "markdown",
   "metadata": {},
   "source": [
    "Define the predicate $A$. $A$ has arity 1 (single argument). The dimension of the argument is 2 (since the domain is $[0,1]^2$)."
   ]
  },
  {
   "cell_type": "code",
   "execution_count": 3,
   "metadata": {},
   "outputs": [],
   "source": [
    "class A_gr(torch.nn.Module):\n",
    "    def __init__(self):\n",
    "        super(A_gr, self).__init__()\n",
    "        self.l1 = torch.nn.Linear(2, 16, True)\n",
    "        self.a1 = torch.relu\n",
    "        self.l2 = torch.nn.Linear(16, 16, True)\n",
    "        self.a2 = torch.relu\n",
    "        self.l3 = torch.nn.Linear(16, 1, False)\n",
    "        self.a3 = torch.sigmoid\n",
    "\n",
    "    def forward(self, x):\n",
    "        x = self.l1(x)\n",
    "        x = self.a1(x)\n",
    "        x = self.l2(x)\n",
    "        x = self.a2(x)\n",
    "        x = self.l3(x)\n",
    "        x = self.a3(x)\n",
    "        return x\n",
    "\n",
    "A = ltn.Predicate('A',A_gr())"
   ]
  },
  {
   "cell_type": "markdown",
   "metadata": {},
   "source": [
    "Import some operators to write the axioms."
   ]
  },
  {
   "cell_type": "code",
   "execution_count": 4,
   "metadata": {},
   "outputs": [],
   "source": [
    "Not = ltn.NOT\n",
    "And = ltn.AND\n",
    "Or = ltn.OR\n",
    "Implies = ltn.IMPLY\n",
    "Forall = ltn.ALL\n",
    "Exists = ltn.ANY"
   ]
  },
  {
   "cell_type": "markdown",
   "metadata": {},
   "source": [
    "Now we add some facts to the knowledgebase. We express that for all points in $\\mathrm{data\\_A}$, $A$ should be true. For all points in $\\mathrm{data\\_not\\_A}$, $A$ is not true. "
   ]
  },
  {
   "cell_type": "code",
   "execution_count": 5,
   "metadata": {},
   "outputs": [],
   "source": [
    "theory=ltn.Theory()\n",
    "\n",
    "x_pos=ltn.Variable('x_pos')\n",
    "x_neg=ltn.Variable('x_neg')\n",
    "\n",
    "theory.add_axiom(Forall(x_pos,A(x_pos)))\n",
    "theory.add_axiom(Forall(x_neg,A(x_neg)))\n",
    "\n",
    "def axioms(data, labels,theory):\n",
    "    sat_level=theory.satisfies(x_pos=labels,x_neg=np.logical_not(labels))\n",
    "    return sat_level"
   ]
  },
  {
   "cell_type": "code",
   "execution_count": 6,
   "metadata": {},
   "outputs": [
    {
     "ename": "NameError",
     "evalue": "name 'NotImplementedException' is not defined",
     "output_type": "error",
     "traceback": [
      "\u001b[1;31m---------------------------------------------------------------------------\u001b[0m",
      "\u001b[1;31mNameError\u001b[0m                                 Traceback (most recent call last)",
      "\u001b[1;32m~\\AppData\\Local\\Temp\\ipykernel_12812\\457008097.py\u001b[0m in \u001b[0;36m<module>\u001b[1;34m\u001b[0m\n\u001b[1;32m----> 1\u001b[1;33m \u001b[1;32mraise\u001b[0m \u001b[0mNotImplementedException\u001b[0m\u001b[1;33m(\u001b[0m\u001b[1;33m)\u001b[0m\u001b[1;33m\u001b[0m\u001b[1;33m\u001b[0m\u001b[0m\n\u001b[0m",
      "\u001b[1;31mNameError\u001b[0m: name 'NotImplementedException' is not defined"
     ]
    }
   ],
   "source": [
    "raise NotImplementedException()"
   ]
  },
  {
   "cell_type": "markdown",
   "metadata": {},
   "source": [
    "Initialize all layers and the static graph."
   ]
  },
  {
   "cell_type": "code",
   "execution_count": null,
   "metadata": {},
   "outputs": [],
   "source": [
    "for _data, _labels in ds_test:\n",
    "    print(\"Initial sat level %.5f\"%axioms(_data, _labels))\n",
    "    break\n"
   ]
  },
  {
   "cell_type": "markdown",
   "metadata": {},
   "source": [
    "Train on the knowledgebase."
   ]
  },
  {
   "cell_type": "code",
   "execution_count": null,
   "metadata": {},
   "outputs": [],
   "source": [
    "mean_metrics = tf.keras.metrics.Mean()\n",
    "\n",
    "trainable_variables = A.trainable_variables\n",
    "optimizer = tf.keras.optimizers.Adam(learning_rate=0.001)\n",
    "for epoch in range(2000):\n",
    "    for _data, _labels in ds_train:\n",
    "        with tf.GradientTape() as tape:\n",
    "            loss = 1. - axioms(_data, _labels)\n",
    "        grads = tape.gradient(loss, trainable_variables)\n",
    "        optimizer.apply_gradients(zip(grads, trainable_variables))\n",
    "    if epoch%100 == 0:\n",
    "        mean_metrics.reset_states()\n",
    "        for _data, _labels in ds_test:\n",
    "            mean_metrics(axioms(_data, _labels))\n",
    "        print(\"Epoch %d: Sat Level %.3f\"%(epoch, mean_metrics.result() ))\n",
    "mean_metrics.reset_states()\n",
    "for _data, _labels in ds_test:\n",
    "    mean_metrics(axioms(_data, _labels))\n",
    "print(\"Training finished at Epoch %d with Sat Level %.3f\"%(epoch, mean_metrics.result() ))"
   ]
  },
  {
   "cell_type": "markdown",
   "metadata": {},
   "source": [
    "The following queries the database on training data and test data. Vizualisation show the extent of generalization."
   ]
  },
  {
   "cell_type": "code",
   "execution_count": null,
   "metadata": {},
   "outputs": [],
   "source": [
    "fig = plt.figure(figsize=(9, 11))\n",
    "\n",
    "plt.subplots_adjust(wspace=0.2,hspace=0.3)\n",
    "ax = plt.subplot2grid((3,8),(0,2),colspan=4)\n",
    "ax.set_title(\"groundtruth\")\n",
    "ax.scatter(data[labels][:,0],data[labels][:,1],label='A')\n",
    "ax.scatter(data[np.logical_not(labels)][:,0],data[np.logical_not(labels)][:,1],label='~A')\n",
    "ax.legend()\n",
    "\n",
    "# Training data\n",
    "x = ltn.Variable(\"x\",data[:nr_samples_train])\n",
    "fig.add_subplot(3, 2, 3)\n",
    "result=A(x)\n",
    "plt.title(\"A(x) - training data\")\n",
    "plt.scatter(data[:nr_samples_train,0],data[:nr_samples_train,1],c=result.tensor.numpy().squeeze())\n",
    "plt.colorbar()\n",
    "\n",
    "fig.add_subplot(3, 2, 4)\n",
    "result=Not(A(x))\n",
    "plt.title(\"~A(x) - training data\")\n",
    "plt.scatter(data[:nr_samples_train,0],data[:nr_samples_train,1],c=result.tensor.numpy().squeeze())\n",
    "plt.colorbar()\n",
    "\n",
    "# Test data\n",
    "x = ltn.Variable(\"x\",data[nr_samples_train:])\n",
    "fig.add_subplot(3, 2, 5)\n",
    "\n",
    "result=A(x)\n",
    "plt.title(\"A(x) - test data\")\n",
    "plt.scatter(data[nr_samples_train:,0],data[nr_samples_train:,1],c=result.tensor.numpy().squeeze())\n",
    "plt.colorbar()\n",
    "\n",
    "fig.add_subplot(3, 2, 6)\n",
    "result=Not(A(x))\n",
    "plt.title(\"~A(x) - test data\")\n",
    "plt.scatter(data[nr_samples_train:,0],data[nr_samples_train:,1],c=result.tensor.numpy().squeeze())\n",
    "plt.colorbar()\n",
    "plt.savefig(\"ex_binary_testing.pdf\")\n",
    "plt.show()"
   ]
  },
  {
   "cell_type": "code",
   "execution_count": null,
   "metadata": {},
   "outputs": [],
   "source": []
  }
 ],
 "metadata": {
  "interpreter": {
   "hash": "889985fd10eb245a43f2ae5f5aa0c555254f5b898fe16071f1c89d06fa8d76a2"
  },
  "kernelspec": {
   "display_name": "Python 3 (ipykernel)",
   "language": "python",
   "name": "python3"
  },
  "language_info": {
   "codemirror_mode": {
    "name": "ipython",
    "version": 3
   },
   "file_extension": ".py",
   "mimetype": "text/x-python",
   "name": "python",
   "nbconvert_exporter": "python",
   "pygments_lexer": "ipython3",
   "version": "3.7.5"
  }
 },
 "nbformat": 4,
 "nbformat_minor": 4
}
